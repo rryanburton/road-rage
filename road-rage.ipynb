{
 "cells": [
  {
   "cell_type": "code",
   "execution_count": 411,
   "metadata": {
    "collapsed": true
   },
   "outputs": [],
   "source": [
    "import random\n",
    "%matplotlib inline\n",
    "import numpy as np\n",
    "import statistics as st\n",
    "import matplotlib.pyplot as plt\n",
    "import math"
   ]
  },
  {
   "cell_type": "code",
   "execution_count": 414,
   "metadata": {
    "collapsed": false
   },
   "outputs": [],
   "source": [
    "from roadrage import Car"
   ]
  },
  {
   "cell_type": "code",
   "execution_count": 393,
   "metadata": {
    "collapsed": false
   },
   "outputs": [],
   "source": [
    "class Car():\n",
    "    '''\n",
    "    responsibilities:\n",
    "    -keep track of velcity\n",
    "    -keep track of position\n",
    "    -randomly slow down or accelerate\n",
    " \n",
    "    '''\n",
    "    def __init__(self, car_id, position, speed = 15):\n",
    "        self.max_v = 33 # m/s\n",
    "        self.length = 5 # m\n",
    "        self.current_v = speed\n",
    "        self.pos = position #spot between 1-1000\n",
    "        self.id = car_id\n",
    "        \n",
    "    def set_accel(self):\n",
    "        #randomly choose between normal accel_rate or 10% -2 accel_rate\n",
    "        if random.random() <= .1:\n",
    "            self.current_v -= 2\n",
    "        else:\n",
    "            self.current_v += 2\n",
    "            if self.current_v > self.max_v:\n",
    "                self.current_v = self.max_v\n",
    "            else:\n",
    "                return self.current_v\n",
    "           \n",
    "        #print(self.max_v, \"max in accel\")\n",
    "        #print(self.current_v, \"in accel\")\n",
    "\n",
    "    def move_position(self):\n",
    "        self.pos += self.current_v\n",
    "        if self.pos > 1000:\n",
    "            self.pos = (self.pos % 1000)\n",
    "\n",
    "    "
   ]
  },
  {
   "cell_type": "code",
   "execution_count": 394,
   "metadata": {
    "collapsed": false
   },
   "outputs": [
    {
     "name": "stdout",
     "output_type": "stream",
     "text": [
      "406 999 9\n"
     ]
    }
   ],
   "source": [
    "print(1406 % 1000,\n",
    "    1999 % 1000,\n",
    "    1009 % 1000)"
   ]
  },
  {
   "cell_type": "code",
   "execution_count": 395,
   "metadata": {
    "collapsed": true
   },
   "outputs": [],
   "source": [
    "def drive_time(self, timelimit):\n",
    "        n=1\n",
    "        while n < timelimit:\n",
    "            self.set_accel()\n",
    "            self.move_position()\n",
    "            print('------------')\n",
    "#             print(self.current_v, \"current_v\")\n",
    "#             print(self.pos, \"current x\")\n",
    "            print(self.id, n, self.pos, self.current_v,\n",
    "                  \"(car.id, count, current position, current_v)\")\n",
    "            n += 1"
   ]
  },
  {
   "cell_type": "code",
   "execution_count": 396,
   "metadata": {
    "collapsed": true
   },
   "outputs": [],
   "source": [
    "# def drive_distance(self, distance):\n",
    "#         n = self.pos\n",
    "#         while n < distance:\n",
    "#             self.set_accel()\n",
    "#             self.move_position()\n",
    "#             print('------------')\n",
    "#             print(self.current_v, \"v\")\n",
    "#             print(car1.pos, \"x\")\n",
    "#             print(n, \"count\")\n",
    "#             #n += 1"
   ]
  },
  {
   "cell_type": "code",
   "execution_count": 415,
   "metadata": {
    "collapsed": false
   },
   "outputs": [
    {
     "data": {
      "text/plain": [
       "1"
      ]
     },
     "execution_count": 415,
     "metadata": {},
     "output_type": "execute_result"
    }
   ],
   "source": [
    "car1 = Car(1,0)\n",
    "car1.id\n",
    "\n"
   ]
  },
  {
   "cell_type": "code",
   "execution_count": 416,
   "metadata": {
    "collapsed": false
   },
   "outputs": [
    {
     "name": "stdout",
     "output_type": "stream",
     "text": [
      "1 0 15 (car.id, car.pos, car.current_v)\n"
     ]
    }
   ],
   "source": [
    "print(car1.id, car1.pos, car1.current_v, \"(car.id, car.pos, car.current_v)\")\n"
   ]
  },
  {
   "cell_type": "code",
   "execution_count": null,
   "metadata": {
    "collapsed": false
   },
   "outputs": [],
   "source": []
  },
  {
   "cell_type": "code",
   "execution_count": 418,
   "metadata": {
    "collapsed": false
   },
   "outputs": [
    {
     "name": "stdout",
     "output_type": "stream",
     "text": [
      "------------\n",
      "1 1 17 17 (car.id, count, current position, current_v)\n",
      "------------\n",
      "1 2 36 19 (car.id, count, current position, current_v)\n",
      "------------\n",
      "1 3 57 21 (car.id, count, current position, current_v)\n",
      "------------\n",
      "1 4 80 23 (car.id, count, current position, current_v)\n",
      "------------\n",
      "1 5 105 25 (car.id, count, current position, current_v)\n",
      "------------\n",
      "1 6 132 27 (car.id, count, current position, current_v)\n",
      "------------\n",
      "1 7 161 29 (car.id, count, current position, current_v)\n",
      "------------\n",
      "1 8 192 31 (car.id, count, current position, current_v)\n",
      "------------\n",
      "1 9 221 29 (car.id, count, current position, current_v)\n",
      "------------\n",
      "1 10 252 31 (car.id, count, current position, current_v)\n",
      "------------\n",
      "1 11 285 33 (car.id, count, current position, current_v)\n",
      "------------\n",
      "1 12 318 33 (car.id, count, current position, current_v)\n",
      "------------\n",
      "1 13 351 33 (car.id, count, current position, current_v)\n",
      "------------\n",
      "1 14 382 31 (car.id, count, current position, current_v)\n",
      "------------\n",
      "1 15 415 33 (car.id, count, current position, current_v)\n",
      "------------\n",
      "1 16 448 33 (car.id, count, current position, current_v)\n",
      "------------\n",
      "1 17 481 33 (car.id, count, current position, current_v)\n",
      "------------\n",
      "1 18 514 33 (car.id, count, current position, current_v)\n",
      "------------\n",
      "1 19 547 33 (car.id, count, current position, current_v)\n",
      "------------\n",
      "1 20 580 33 (car.id, count, current position, current_v)\n",
      "------------\n",
      "1 21 613 33 (car.id, count, current position, current_v)\n",
      "------------\n",
      "1 22 646 33 (car.id, count, current position, current_v)\n",
      "------------\n",
      "1 23 677 31 (car.id, count, current position, current_v)\n",
      "------------\n",
      "1 24 710 33 (car.id, count, current position, current_v)\n",
      "------------\n",
      "1 25 743 33 (car.id, count, current position, current_v)\n",
      "------------\n",
      "1 26 776 33 (car.id, count, current position, current_v)\n",
      "------------\n",
      "1 27 809 33 (car.id, count, current position, current_v)\n",
      "------------\n",
      "1 28 840 31 (car.id, count, current position, current_v)\n",
      "------------\n",
      "1 29 873 33 (car.id, count, current position, current_v)\n",
      "------------\n",
      "1 30 906 33 (car.id, count, current position, current_v)\n",
      "------------\n",
      "1 31 939 33 (car.id, count, current position, current_v)\n",
      "------------\n",
      "1 32 972 33 (car.id, count, current position, current_v)\n",
      "------------\n",
      "1 33 5 33 (car.id, count, current position, current_v)\n",
      "------------\n",
      "1 34 38 33 (car.id, count, current position, current_v)\n",
      "------------\n",
      "1 35 71 33 (car.id, count, current position, current_v)\n",
      "------------\n",
      "1 36 102 31 (car.id, count, current position, current_v)\n",
      "------------\n",
      "1 37 135 33 (car.id, count, current position, current_v)\n",
      "------------\n",
      "1 38 168 33 (car.id, count, current position, current_v)\n",
      "------------\n",
      "1 39 201 33 (car.id, count, current position, current_v)\n",
      "------------\n",
      "1 40 234 33 (car.id, count, current position, current_v)\n",
      "------------\n",
      "1 41 267 33 (car.id, count, current position, current_v)\n",
      "------------\n",
      "1 42 300 33 (car.id, count, current position, current_v)\n",
      "------------\n",
      "1 43 333 33 (car.id, count, current position, current_v)\n",
      "------------\n",
      "1 44 366 33 (car.id, count, current position, current_v)\n",
      "------------\n",
      "1 45 399 33 (car.id, count, current position, current_v)\n",
      "------------\n",
      "1 46 432 33 (car.id, count, current position, current_v)\n",
      "------------\n",
      "1 47 465 33 (car.id, count, current position, current_v)\n",
      "------------\n",
      "1 48 498 33 (car.id, count, current position, current_v)\n",
      "------------\n",
      "1 49 531 33 (car.id, count, current position, current_v)\n",
      "------------\n",
      "1 50 564 33 (car.id, count, current position, current_v)\n",
      "------------\n",
      "1 51 595 31 (car.id, count, current position, current_v)\n",
      "------------\n",
      "1 52 628 33 (car.id, count, current position, current_v)\n",
      "------------\n",
      "1 53 661 33 (car.id, count, current position, current_v)\n",
      "------------\n",
      "1 54 694 33 (car.id, count, current position, current_v)\n",
      "------------\n",
      "1 55 725 31 (car.id, count, current position, current_v)\n",
      "------------\n",
      "1 56 758 33 (car.id, count, current position, current_v)\n",
      "------------\n",
      "1 57 791 33 (car.id, count, current position, current_v)\n",
      "------------\n",
      "1 58 824 33 (car.id, count, current position, current_v)\n",
      "------------\n",
      "1 59 857 33 (car.id, count, current position, current_v)\n",
      "------------\n",
      "1 60 890 33 (car.id, count, current position, current_v)\n",
      "------------\n",
      "1 61 921 31 (car.id, count, current position, current_v)\n",
      "------------\n",
      "1 62 954 33 (car.id, count, current position, current_v)\n",
      "------------\n",
      "1 63 987 33 (car.id, count, current position, current_v)\n",
      "------------\n",
      "1 64 20 33 (car.id, count, current position, current_v)\n",
      "------------\n",
      "1 65 51 31 (car.id, count, current position, current_v)\n",
      "------------\n",
      "1 66 84 33 (car.id, count, current position, current_v)\n",
      "------------\n",
      "1 67 117 33 (car.id, count, current position, current_v)\n",
      "------------\n",
      "1 68 150 33 (car.id, count, current position, current_v)\n",
      "------------\n",
      "1 69 183 33 (car.id, count, current position, current_v)\n",
      "------------\n",
      "1 70 216 33 (car.id, count, current position, current_v)\n",
      "------------\n",
      "1 71 249 33 (car.id, count, current position, current_v)\n",
      "------------\n",
      "1 72 282 33 (car.id, count, current position, current_v)\n",
      "------------\n",
      "1 73 315 33 (car.id, count, current position, current_v)\n",
      "------------\n",
      "1 74 348 33 (car.id, count, current position, current_v)\n",
      "------------\n",
      "1 75 381 33 (car.id, count, current position, current_v)\n",
      "------------\n",
      "1 76 414 33 (car.id, count, current position, current_v)\n",
      "------------\n",
      "1 77 447 33 (car.id, count, current position, current_v)\n",
      "------------\n",
      "1 78 480 33 (car.id, count, current position, current_v)\n",
      "------------\n",
      "1 79 513 33 (car.id, count, current position, current_v)\n",
      "------------\n",
      "1 80 546 33 (car.id, count, current position, current_v)\n",
      "------------\n",
      "1 81 579 33 (car.id, count, current position, current_v)\n",
      "------------\n",
      "1 82 612 33 (car.id, count, current position, current_v)\n",
      "------------\n",
      "1 83 645 33 (car.id, count, current position, current_v)\n",
      "------------\n",
      "1 84 678 33 (car.id, count, current position, current_v)\n",
      "------------\n",
      "1 85 711 33 (car.id, count, current position, current_v)\n",
      "------------\n",
      "1 86 744 33 (car.id, count, current position, current_v)\n",
      "------------\n",
      "1 87 777 33 (car.id, count, current position, current_v)\n",
      "------------\n",
      "1 88 810 33 (car.id, count, current position, current_v)\n",
      "------------\n",
      "1 89 843 33 (car.id, count, current position, current_v)\n",
      "------------\n",
      "1 90 876 33 (car.id, count, current position, current_v)\n",
      "------------\n",
      "1 91 909 33 (car.id, count, current position, current_v)\n",
      "------------\n",
      "1 92 942 33 (car.id, count, current position, current_v)\n",
      "------------\n",
      "1 93 975 33 (car.id, count, current position, current_v)\n",
      "------------\n",
      "1 94 8 33 (car.id, count, current position, current_v)\n",
      "------------\n",
      "1 95 41 33 (car.id, count, current position, current_v)\n",
      "------------\n",
      "1 96 74 33 (car.id, count, current position, current_v)\n",
      "------------\n",
      "1 97 107 33 (car.id, count, current position, current_v)\n",
      "------------\n",
      "1 98 140 33 (car.id, count, current position, current_v)\n",
      "------------\n",
      "1 99 173 33 (car.id, count, current position, current_v)\n",
      "------------\n",
      "1 100 206 33 (car.id, count, current position, current_v)\n",
      "------------\n",
      "1 101 239 33 (car.id, count, current position, current_v)\n",
      "------------\n",
      "1 102 272 33 (car.id, count, current position, current_v)\n",
      "------------\n",
      "1 103 305 33 (car.id, count, current position, current_v)\n",
      "------------\n",
      "1 104 338 33 (car.id, count, current position, current_v)\n",
      "------------\n",
      "1 105 371 33 (car.id, count, current position, current_v)\n",
      "------------\n",
      "1 106 404 33 (car.id, count, current position, current_v)\n",
      "------------\n",
      "1 107 437 33 (car.id, count, current position, current_v)\n",
      "------------\n",
      "1 108 470 33 (car.id, count, current position, current_v)\n",
      "------------\n",
      "1 109 503 33 (car.id, count, current position, current_v)\n",
      "------------\n",
      "1 110 536 33 (car.id, count, current position, current_v)\n",
      "------------\n",
      "1 111 567 31 (car.id, count, current position, current_v)\n",
      "------------\n",
      "1 112 600 33 (car.id, count, current position, current_v)\n",
      "------------\n",
      "1 113 633 33 (car.id, count, current position, current_v)\n",
      "------------\n",
      "1 114 666 33 (car.id, count, current position, current_v)\n",
      "------------\n",
      "1 115 699 33 (car.id, count, current position, current_v)\n",
      "------------\n",
      "1 116 732 33 (car.id, count, current position, current_v)\n",
      "------------\n",
      "1 117 765 33 (car.id, count, current position, current_v)\n",
      "------------\n",
      "1 118 798 33 (car.id, count, current position, current_v)\n",
      "------------\n",
      "1 119 831 33 (car.id, count, current position, current_v)\n",
      "------------\n",
      "1 120 864 33 (car.id, count, current position, current_v)\n",
      "------------\n",
      "1 121 897 33 (car.id, count, current position, current_v)\n",
      "------------\n",
      "1 122 930 33 (car.id, count, current position, current_v)\n",
      "------------\n",
      "1 123 961 31 (car.id, count, current position, current_v)\n",
      "------------\n",
      "1 124 994 33 (car.id, count, current position, current_v)\n",
      "------------\n",
      "1 125 27 33 (car.id, count, current position, current_v)\n",
      "------------\n",
      "1 126 60 33 (car.id, count, current position, current_v)\n",
      "------------\n",
      "1 127 93 33 (car.id, count, current position, current_v)\n",
      "------------\n",
      "1 128 126 33 (car.id, count, current position, current_v)\n",
      "------------\n",
      "1 129 157 31 (car.id, count, current position, current_v)\n",
      "------------\n",
      "1 130 190 33 (car.id, count, current position, current_v)\n",
      "------------\n",
      "1 131 221 31 (car.id, count, current position, current_v)\n",
      "------------\n",
      "1 132 254 33 (car.id, count, current position, current_v)\n",
      "------------\n",
      "1 133 287 33 (car.id, count, current position, current_v)\n",
      "------------\n",
      "1 134 320 33 (car.id, count, current position, current_v)\n",
      "------------\n",
      "1 135 353 33 (car.id, count, current position, current_v)\n",
      "------------\n",
      "1 136 386 33 (car.id, count, current position, current_v)\n",
      "------------\n",
      "1 137 419 33 (car.id, count, current position, current_v)\n",
      "------------\n",
      "1 138 452 33 (car.id, count, current position, current_v)\n",
      "------------\n",
      "1 139 485 33 (car.id, count, current position, current_v)\n",
      "------------\n",
      "1 140 518 33 (car.id, count, current position, current_v)\n",
      "------------\n",
      "1 141 551 33 (car.id, count, current position, current_v)\n",
      "------------\n",
      "1 142 584 33 (car.id, count, current position, current_v)\n",
      "------------\n",
      "1 143 617 33 (car.id, count, current position, current_v)\n",
      "------------\n",
      "1 144 650 33 (car.id, count, current position, current_v)\n",
      "------------\n",
      "1 145 683 33 (car.id, count, current position, current_v)\n",
      "------------\n",
      "1 146 714 31 (car.id, count, current position, current_v)\n",
      "------------\n",
      "1 147 747 33 (car.id, count, current position, current_v)\n",
      "------------\n",
      "1 148 778 31 (car.id, count, current position, current_v)\n",
      "------------\n",
      "1 149 811 33 (car.id, count, current position, current_v)\n",
      "------------\n",
      "1 150 844 33 (car.id, count, current position, current_v)\n",
      "------------\n",
      "1 151 877 33 (car.id, count, current position, current_v)\n",
      "------------\n",
      "1 152 910 33 (car.id, count, current position, current_v)\n",
      "------------\n",
      "1 153 943 33 (car.id, count, current position, current_v)\n",
      "------------\n",
      "1 154 976 33 (car.id, count, current position, current_v)\n",
      "------------\n",
      "1 155 9 33 (car.id, count, current position, current_v)\n",
      "------------\n",
      "1 156 42 33 (car.id, count, current position, current_v)\n",
      "------------\n",
      "1 157 75 33 (car.id, count, current position, current_v)\n",
      "------------\n",
      "1 158 108 33 (car.id, count, current position, current_v)\n",
      "------------\n",
      "1 159 141 33 (car.id, count, current position, current_v)\n"
     ]
    }
   ],
   "source": [
    "car1 = Car(1,0)\n",
    "drive_time(car1, 160)\n"
   ]
  },
  {
   "cell_type": "code",
   "execution_count": 400,
   "metadata": {
    "collapsed": false
   },
   "outputs": [
    {
     "data": {
      "text/plain": [
       "33"
      ]
     },
     "execution_count": 400,
     "metadata": {},
     "output_type": "execute_result"
    }
   ],
   "source": [
    "honda.max_v"
   ]
  },
  {
   "cell_type": "code",
   "execution_count": null,
   "metadata": {
    "collapsed": false
   },
   "outputs": [],
   "source": []
  },
  {
   "cell_type": "code",
   "execution_count": null,
   "metadata": {
    "collapsed": false
   },
   "outputs": [],
   "source": []
  },
  {
   "cell_type": "code",
   "execution_count": 401,
   "metadata": {
    "collapsed": false
   },
   "outputs": [
    {
     "ename": "TypeError",
     "evalue": "__init__() missing 1 required positional argument: 'position'",
     "output_type": "error",
     "traceback": [
      "\u001b[0;31m---------------------------------------------------------------------------\u001b[0m",
      "\u001b[0;31mTypeError\u001b[0m                                 Traceback (most recent call last)",
      "\u001b[0;32m<ipython-input-401-3e3c01c90cb9>\u001b[0m in \u001b[0;36m<module>\u001b[0;34m()\u001b[0m\n\u001b[0;32m----> 1\u001b[0;31m \u001b[0mcars\u001b[0m \u001b[0;34m=\u001b[0m \u001b[0;34m[\u001b[0m\u001b[0mCar\u001b[0m\u001b[0;34m(\u001b[0m\u001b[0mn\u001b[0m \u001b[0;34m*\u001b[0m \u001b[0mcar\u001b[0m\u001b[0;34m.\u001b[0m\u001b[0mmax_v\u001b[0m \u001b[0;34m+\u001b[0m \u001b[0;36m5\u001b[0m\u001b[0;34m)\u001b[0m \u001b[0;32mfor\u001b[0m \u001b[0mn\u001b[0m \u001b[0;32min\u001b[0m \u001b[0mrange\u001b[0m\u001b[0;34m(\u001b[0m\u001b[0;36m30\u001b[0m\u001b[0;34m)\u001b[0m\u001b[0;34m]\u001b[0m\u001b[0;34m\u001b[0m\u001b[0m\n\u001b[0m",
      "\u001b[0;32m<ipython-input-401-3e3c01c90cb9>\u001b[0m in \u001b[0;36m<listcomp>\u001b[0;34m(.0)\u001b[0m\n\u001b[0;32m----> 1\u001b[0;31m \u001b[0mcars\u001b[0m \u001b[0;34m=\u001b[0m \u001b[0;34m[\u001b[0m\u001b[0mCar\u001b[0m\u001b[0;34m(\u001b[0m\u001b[0mn\u001b[0m \u001b[0;34m*\u001b[0m \u001b[0mcar\u001b[0m\u001b[0;34m.\u001b[0m\u001b[0mmax_v\u001b[0m \u001b[0;34m+\u001b[0m \u001b[0;36m5\u001b[0m\u001b[0;34m)\u001b[0m \u001b[0;32mfor\u001b[0m \u001b[0mn\u001b[0m \u001b[0;32min\u001b[0m \u001b[0mrange\u001b[0m\u001b[0;34m(\u001b[0m\u001b[0;36m30\u001b[0m\u001b[0;34m)\u001b[0m\u001b[0;34m]\u001b[0m\u001b[0;34m\u001b[0m\u001b[0m\n\u001b[0m",
      "\u001b[0;31mTypeError\u001b[0m: __init__() missing 1 required positional argument: 'position'"
     ]
    }
   ],
   "source": [
    "cars = [Car(n * car.max_v + 5) for n in range(30)]"
   ]
  },
  {
   "cell_type": "code",
   "execution_count": null,
   "metadata": {
    "collapsed": false
   },
   "outputs": [],
   "source": [
    "cars_0 = cars\n",
    "print(cars)"
   ]
  },
  {
   "cell_type": "code",
   "execution_count": null,
   "metadata": {
    "collapsed": false
   },
   "outputs": [],
   "source": [
    "random.random() < 0.1"
   ]
  },
  {
   "cell_type": "code",
   "execution_count": null,
   "metadata": {
    "collapsed": false
   },
   "outputs": [],
   "source": [
    "\n",
    "\n",
    "for car in cars:\n",
    "    print(car.pos)"
   ]
  },
  {
   "cell_type": "code",
   "execution_count": null,
   "metadata": {
    "collapsed": false
   },
   "outputs": [],
   "source": [
    "print(cars[2].current_v, 'car2 v')"
   ]
  },
  {
   "cell_type": "code",
   "execution_count": null,
   "metadata": {
    "collapsed": false
   },
   "outputs": [],
   "source": [
    "np.random.uniform(0, 1000, 30)"
   ]
  },
  {
   "cell_type": "code",
   "execution_count": null,
   "metadata": {
    "collapsed": false
   },
   "outputs": [],
   "source": [
    "cars2 = {Car(n * car.max_v + 5) for n in range(30)}"
   ]
  },
  {
   "cell_type": "code",
   "execution_count": null,
   "metadata": {
    "collapsed": false
   },
   "outputs": [],
   "source": [
    "cars2"
   ]
  },
  {
   "cell_type": "code",
   "execution_count": 425,
   "metadata": {
    "collapsed": false
   },
   "outputs": [],
   "source": [
    "blank_road = np.array([0 for x in range(1000)])\n"
   ]
  },
  {
   "cell_type": "code",
   "execution_count": 426,
   "metadata": {
    "collapsed": false
   },
   "outputs": [
    {
     "data": {
      "text/plain": [
       "1000"
      ]
     },
     "execution_count": 426,
     "metadata": {},
     "output_type": "execute_result"
    }
   ],
   "source": [
    "len(blank_road)"
   ]
  },
  {
   "cell_type": "code",
   "execution_count": 429,
   "metadata": {
    "collapsed": false
   },
   "outputs": [
    {
     "name": "stdout",
     "output_type": "stream",
     "text": [
      "[[ 1.  1.  1. ...,  0.  1.  1.]\n",
      " [ 0.  1.  0. ...,  0.  0.  1.]\n",
      " [ 0.  1.  1. ...,  1.  0.  1.]\n",
      " ..., \n",
      " [ 1.  1.  0. ...,  1.  1.  0.]\n",
      " [ 1.  1.  0. ...,  0.  0.  0.]\n",
      " [ 1.  1.  0. ...,  1.  1.  1.]]\n"
     ]
    },
    {
     "data": {
      "text/plain": [
       "<matplotlib.image.AxesImage at 0x109c95940>"
      ]
     },
     "execution_count": 429,
     "metadata": {},
     "output_type": "execute_result"
    },
    {
     "data": {
      "image/png": "[encoded data removed]",
      "text/plain": [
       "<matplotlib.figure.Figure at 0x10986bb38>"
      ]
     },
     "metadata": {},
     "output_type": "display_data"
    }
   ],
   "source": [
    "img_data = np.random.choice([0,1,1], (100, 1000)).astype('float32')\n",
    "print(img_data)\n",
    "\n",
    "plt.figure(figsize=(20, 20)) # size is in \"inches\"\n",
    "plt.imshow(img_data, cmap='gray', interpolation='nearest')"
   ]
  },
  {
   "cell_type": "code",
   "execution_count": null,
   "metadata": {
    "collapsed": true
   },
   "outputs": [],
   "source": []
  }
 ],
 "metadata": {
  "kernelspec": {
   "display_name": "Python 3",
   "language": "python",
   "name": "python3"
  },
  "language_info": {
   "codemirror_mode": {
    "name": "ipython",
    "version": 3
   },
   "file_extension": ".py",
   "mimetype": "text/x-python",
   "name": "python",
   "nbconvert_exporter": "python",
   "pygments_lexer": "ipython3",
   "version": "3.4.3"
  }
 },
 "nbformat": 4,
 "nbformat_minor": 0
}
